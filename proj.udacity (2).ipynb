{
 "cells": [
  {
   "cell_type": "markdown",
   "metadata": {},
   "source": [
    "APRESENTAÇÃO \n",
    "\n",
    "A presente coleção de dados não engloba a totalidade dos passageiros, estima-se que 2400 pessoas estavam a bordo. A coleção de dados apresenta informações de 216 passageiros na 1ª classe, 184 na segunda e 491 na terceira, 891 pessoas, representando 37,12% do total.\n",
    "\n",
    "Perguntas a serem respondidas:\n",
    "1- Da presente amostragem, quantas pessoas sobreviveram ao desastre? Quantas morreram?\n",
    "2- Que fatores foram considerados importantes para sobrevivência? A classe, sexo e idade \n",
    "foram fatores importantes?\n",
    "3- A idade influenciou no fator sobrevivência?\n",
    "4- Pessoas que viajaram com a família tiverem mais ou menos chances?\n",
    "\n",
    "VARIÁVEIS\n",
    "\n",
    "Survived (Sobreviveu): 0 = Não, 1 = Sim\n",
    "Pclass (Classe): Classe de ingresso 1 = 1º, 2 = 2º, 3 = 3º\n",
    "Sex (Sexo): Sexo do passageiro\n",
    "Age (Idade): Idade em anos\n",
    "Sibsp: Quantidade de irmãos / cônjuges a bordo do Titanic\n",
    "Parch: Quantidade de pais / crianças a bordo do Titanic\n",
    "Ticket (Bilhete): Número do bilhete de embarque\n",
    "Fare (Tarifa): Tarifa paga pelo Passageiro\n",
    "Cabin (Cabine): Número de cabine\n",
    "Embarked (Embarque): Porto de Embarque (C = Cherbourg, Q = Queenstown, S = Southampton)\n",
    "\n",
    "\n",
    "\n",
    "\n",
    " \n",
    "\n",
    "\n",
    "\n"
   ]
  },
  {
   "cell_type": "code",
   "execution_count": 135,
   "metadata": {},
   "outputs": [],
   "source": [
    "import pandas as pd\n",
    "import numpy as np \n",
    "import matplotlib.pyplot as plt\n",
    "import seaborn as sns\n",
    "import warnings\n",
    "\n",
    "warnings.filterwarnings ('ignore')\n",
    "pd.options.display.float_format = '{:.2f}'.format\n",
    "\n",
    "%matplotlib inline\n"
   ]
  },
  {
   "cell_type": "code",
   "execution_count": 92,
   "metadata": {},
   "outputs": [],
   "source": [
    "df = pd.read_csv('titanic-data-6.csv')"
   ]
  },
  {
   "cell_type": "code",
   "execution_count": 93,
   "metadata": {},
   "outputs": [
    {
     "name": "stdout",
     "output_type": "stream",
     "text": [
      "Número de linhas: 891\n",
      "Número de colunas: 12\n"
     ]
    }
   ],
   "source": [
    "#definindo a matriz de estudo\n",
    "print('Número de linhas:', df.shape[0])\n",
    "print('Número de colunas:', df.shape[1])"
   ]
  },
  {
   "cell_type": "code",
   "execution_count": 94,
   "metadata": {
    "scrolled": true
   },
   "outputs": [
    {
     "data": {
      "text/html": [
       "<div>\n",
       "<style scoped>\n",
       "    .dataframe tbody tr th:only-of-type {\n",
       "        vertical-align: middle;\n",
       "    }\n",
       "\n",
       "    .dataframe tbody tr th {\n",
       "        vertical-align: top;\n",
       "    }\n",
       "\n",
       "    .dataframe thead th {\n",
       "        text-align: right;\n",
       "    }\n",
       "</style>\n",
       "<table border=\"1\" class=\"dataframe\">\n",
       "  <thead>\n",
       "    <tr style=\"text-align: right;\">\n",
       "      <th></th>\n",
       "      <th>PassengerId</th>\n",
       "      <th>Survived</th>\n",
       "      <th>Pclass</th>\n",
       "      <th>Name</th>\n",
       "      <th>Sex</th>\n",
       "      <th>Age</th>\n",
       "      <th>SibSp</th>\n",
       "      <th>Parch</th>\n",
       "      <th>Ticket</th>\n",
       "      <th>Fare</th>\n",
       "      <th>Cabin</th>\n",
       "      <th>Embarked</th>\n",
       "    </tr>\n",
       "  </thead>\n",
       "  <tbody>\n",
       "    <tr>\n",
       "      <th>0</th>\n",
       "      <td>1</td>\n",
       "      <td>0</td>\n",
       "      <td>3</td>\n",
       "      <td>Braund, Mr. Owen Harris</td>\n",
       "      <td>male</td>\n",
       "      <td>22.00</td>\n",
       "      <td>1</td>\n",
       "      <td>0</td>\n",
       "      <td>A/5 21171</td>\n",
       "      <td>7.25</td>\n",
       "      <td>NaN</td>\n",
       "      <td>S</td>\n",
       "    </tr>\n",
       "    <tr>\n",
       "      <th>1</th>\n",
       "      <td>2</td>\n",
       "      <td>1</td>\n",
       "      <td>1</td>\n",
       "      <td>Cumings, Mrs. John Bradley (Florence Briggs Th...</td>\n",
       "      <td>female</td>\n",
       "      <td>38.00</td>\n",
       "      <td>1</td>\n",
       "      <td>0</td>\n",
       "      <td>PC 17599</td>\n",
       "      <td>71.28</td>\n",
       "      <td>C85</td>\n",
       "      <td>C</td>\n",
       "    </tr>\n",
       "    <tr>\n",
       "      <th>2</th>\n",
       "      <td>3</td>\n",
       "      <td>1</td>\n",
       "      <td>3</td>\n",
       "      <td>Heikkinen, Miss. Laina</td>\n",
       "      <td>female</td>\n",
       "      <td>26.00</td>\n",
       "      <td>0</td>\n",
       "      <td>0</td>\n",
       "      <td>STON/O2. 3101282</td>\n",
       "      <td>7.92</td>\n",
       "      <td>NaN</td>\n",
       "      <td>S</td>\n",
       "    </tr>\n",
       "    <tr>\n",
       "      <th>3</th>\n",
       "      <td>4</td>\n",
       "      <td>1</td>\n",
       "      <td>1</td>\n",
       "      <td>Futrelle, Mrs. Jacques Heath (Lily May Peel)</td>\n",
       "      <td>female</td>\n",
       "      <td>35.00</td>\n",
       "      <td>1</td>\n",
       "      <td>0</td>\n",
       "      <td>113803</td>\n",
       "      <td>53.10</td>\n",
       "      <td>C123</td>\n",
       "      <td>S</td>\n",
       "    </tr>\n",
       "    <tr>\n",
       "      <th>4</th>\n",
       "      <td>5</td>\n",
       "      <td>0</td>\n",
       "      <td>3</td>\n",
       "      <td>Allen, Mr. William Henry</td>\n",
       "      <td>male</td>\n",
       "      <td>35.00</td>\n",
       "      <td>0</td>\n",
       "      <td>0</td>\n",
       "      <td>373450</td>\n",
       "      <td>8.05</td>\n",
       "      <td>NaN</td>\n",
       "      <td>S</td>\n",
       "    </tr>\n",
       "  </tbody>\n",
       "</table>\n",
       "</div>"
      ],
      "text/plain": [
       "   PassengerId  Survived  Pclass  \\\n",
       "0            1         0       3   \n",
       "1            2         1       1   \n",
       "2            3         1       3   \n",
       "3            4         1       1   \n",
       "4            5         0       3   \n",
       "\n",
       "                                                Name     Sex   Age  SibSp  \\\n",
       "0                            Braund, Mr. Owen Harris    male 22.00      1   \n",
       "1  Cumings, Mrs. John Bradley (Florence Briggs Th...  female 38.00      1   \n",
       "2                             Heikkinen, Miss. Laina  female 26.00      0   \n",
       "3       Futrelle, Mrs. Jacques Heath (Lily May Peel)  female 35.00      1   \n",
       "4                           Allen, Mr. William Henry    male 35.00      0   \n",
       "\n",
       "   Parch            Ticket  Fare Cabin Embarked  \n",
       "0      0         A/5 21171  7.25   NaN        S  \n",
       "1      0          PC 17599 71.28   C85        C  \n",
       "2      0  STON/O2. 3101282  7.92   NaN        S  \n",
       "3      0            113803 53.10  C123        S  \n",
       "4      0            373450  8.05   NaN        S  "
      ]
     },
     "execution_count": 94,
     "metadata": {},
     "output_type": "execute_result"
    }
   ],
   "source": [
    "#encontrar os 5 primeiros valores \n",
    "df.head()"
   ]
  },
  {
   "cell_type": "code",
   "execution_count": 95,
   "metadata": {
    "scrolled": false
   },
   "outputs": [
    {
     "data": {
      "text/html": [
       "<div>\n",
       "<style scoped>\n",
       "    .dataframe tbody tr th:only-of-type {\n",
       "        vertical-align: middle;\n",
       "    }\n",
       "\n",
       "    .dataframe tbody tr th {\n",
       "        vertical-align: top;\n",
       "    }\n",
       "\n",
       "    .dataframe thead th {\n",
       "        text-align: right;\n",
       "    }\n",
       "</style>\n",
       "<table border=\"1\" class=\"dataframe\">\n",
       "  <thead>\n",
       "    <tr style=\"text-align: right;\">\n",
       "      <th></th>\n",
       "      <th>PassengerId</th>\n",
       "      <th>Survived</th>\n",
       "      <th>Pclass</th>\n",
       "      <th>Name</th>\n",
       "      <th>Sex</th>\n",
       "      <th>Age</th>\n",
       "      <th>SibSp</th>\n",
       "      <th>Parch</th>\n",
       "      <th>Ticket</th>\n",
       "      <th>Fare</th>\n",
       "      <th>Cabin</th>\n",
       "      <th>Embarked</th>\n",
       "    </tr>\n",
       "  </thead>\n",
       "  <tbody>\n",
       "    <tr>\n",
       "      <th>886</th>\n",
       "      <td>887</td>\n",
       "      <td>0</td>\n",
       "      <td>2</td>\n",
       "      <td>Montvila, Rev. Juozas</td>\n",
       "      <td>male</td>\n",
       "      <td>27.00</td>\n",
       "      <td>0</td>\n",
       "      <td>0</td>\n",
       "      <td>211536</td>\n",
       "      <td>13.00</td>\n",
       "      <td>NaN</td>\n",
       "      <td>S</td>\n",
       "    </tr>\n",
       "    <tr>\n",
       "      <th>887</th>\n",
       "      <td>888</td>\n",
       "      <td>1</td>\n",
       "      <td>1</td>\n",
       "      <td>Graham, Miss. Margaret Edith</td>\n",
       "      <td>female</td>\n",
       "      <td>19.00</td>\n",
       "      <td>0</td>\n",
       "      <td>0</td>\n",
       "      <td>112053</td>\n",
       "      <td>30.00</td>\n",
       "      <td>B42</td>\n",
       "      <td>S</td>\n",
       "    </tr>\n",
       "    <tr>\n",
       "      <th>888</th>\n",
       "      <td>889</td>\n",
       "      <td>0</td>\n",
       "      <td>3</td>\n",
       "      <td>Johnston, Miss. Catherine Helen \"Carrie\"</td>\n",
       "      <td>female</td>\n",
       "      <td>nan</td>\n",
       "      <td>1</td>\n",
       "      <td>2</td>\n",
       "      <td>W./C. 6607</td>\n",
       "      <td>23.45</td>\n",
       "      <td>NaN</td>\n",
       "      <td>S</td>\n",
       "    </tr>\n",
       "    <tr>\n",
       "      <th>889</th>\n",
       "      <td>890</td>\n",
       "      <td>1</td>\n",
       "      <td>1</td>\n",
       "      <td>Behr, Mr. Karl Howell</td>\n",
       "      <td>male</td>\n",
       "      <td>26.00</td>\n",
       "      <td>0</td>\n",
       "      <td>0</td>\n",
       "      <td>111369</td>\n",
       "      <td>30.00</td>\n",
       "      <td>C148</td>\n",
       "      <td>C</td>\n",
       "    </tr>\n",
       "    <tr>\n",
       "      <th>890</th>\n",
       "      <td>891</td>\n",
       "      <td>0</td>\n",
       "      <td>3</td>\n",
       "      <td>Dooley, Mr. Patrick</td>\n",
       "      <td>male</td>\n",
       "      <td>32.00</td>\n",
       "      <td>0</td>\n",
       "      <td>0</td>\n",
       "      <td>370376</td>\n",
       "      <td>7.75</td>\n",
       "      <td>NaN</td>\n",
       "      <td>Q</td>\n",
       "    </tr>\n",
       "  </tbody>\n",
       "</table>\n",
       "</div>"
      ],
      "text/plain": [
       "     PassengerId  Survived  Pclass                                      Name  \\\n",
       "886          887         0       2                     Montvila, Rev. Juozas   \n",
       "887          888         1       1              Graham, Miss. Margaret Edith   \n",
       "888          889         0       3  Johnston, Miss. Catherine Helen \"Carrie\"   \n",
       "889          890         1       1                     Behr, Mr. Karl Howell   \n",
       "890          891         0       3                       Dooley, Mr. Patrick   \n",
       "\n",
       "        Sex   Age  SibSp  Parch      Ticket  Fare Cabin Embarked  \n",
       "886    male 27.00      0      0      211536 13.00   NaN        S  \n",
       "887  female 19.00      0      0      112053 30.00   B42        S  \n",
       "888  female   nan      1      2  W./C. 6607 23.45   NaN        S  \n",
       "889    male 26.00      0      0      111369 30.00  C148        C  \n",
       "890    male 32.00      0      0      370376  7.75   NaN        Q  "
      ]
     },
     "execution_count": 95,
     "metadata": {},
     "output_type": "execute_result"
    }
   ],
   "source": [
    "#encontrar os últimos 5 valores \n",
    "df.tail()"
   ]
  },
  {
   "cell_type": "code",
   "execution_count": 96,
   "metadata": {},
   "outputs": [
    {
     "data": {
      "text/html": [
       "<div>\n",
       "<style scoped>\n",
       "    .dataframe tbody tr th:only-of-type {\n",
       "        vertical-align: middle;\n",
       "    }\n",
       "\n",
       "    .dataframe tbody tr th {\n",
       "        vertical-align: top;\n",
       "    }\n",
       "\n",
       "    .dataframe thead th {\n",
       "        text-align: right;\n",
       "    }\n",
       "</style>\n",
       "<table border=\"1\" class=\"dataframe\">\n",
       "  <thead>\n",
       "    <tr style=\"text-align: right;\">\n",
       "      <th></th>\n",
       "      <th>PassengerId</th>\n",
       "      <th>Survived</th>\n",
       "      <th>Pclass</th>\n",
       "      <th>Name</th>\n",
       "      <th>Sex</th>\n",
       "      <th>Age</th>\n",
       "      <th>SibSp</th>\n",
       "      <th>Parch</th>\n",
       "    </tr>\n",
       "  </thead>\n",
       "  <tbody>\n",
       "    <tr>\n",
       "      <th>0</th>\n",
       "      <td>1</td>\n",
       "      <td>0</td>\n",
       "      <td>3</td>\n",
       "      <td>Braund, Mr. Owen Harris</td>\n",
       "      <td>male</td>\n",
       "      <td>22.00</td>\n",
       "      <td>1</td>\n",
       "      <td>0</td>\n",
       "    </tr>\n",
       "    <tr>\n",
       "      <th>1</th>\n",
       "      <td>2</td>\n",
       "      <td>1</td>\n",
       "      <td>1</td>\n",
       "      <td>Cumings, Mrs. John Bradley (Florence Briggs Th...</td>\n",
       "      <td>female</td>\n",
       "      <td>38.00</td>\n",
       "      <td>1</td>\n",
       "      <td>0</td>\n",
       "    </tr>\n",
       "    <tr>\n",
       "      <th>2</th>\n",
       "      <td>3</td>\n",
       "      <td>1</td>\n",
       "      <td>3</td>\n",
       "      <td>Heikkinen, Miss. Laina</td>\n",
       "      <td>female</td>\n",
       "      <td>26.00</td>\n",
       "      <td>0</td>\n",
       "      <td>0</td>\n",
       "    </tr>\n",
       "    <tr>\n",
       "      <th>3</th>\n",
       "      <td>4</td>\n",
       "      <td>1</td>\n",
       "      <td>1</td>\n",
       "      <td>Futrelle, Mrs. Jacques Heath (Lily May Peel)</td>\n",
       "      <td>female</td>\n",
       "      <td>35.00</td>\n",
       "      <td>1</td>\n",
       "      <td>0</td>\n",
       "    </tr>\n",
       "    <tr>\n",
       "      <th>4</th>\n",
       "      <td>5</td>\n",
       "      <td>0</td>\n",
       "      <td>3</td>\n",
       "      <td>Allen, Mr. William Henry</td>\n",
       "      <td>male</td>\n",
       "      <td>35.00</td>\n",
       "      <td>0</td>\n",
       "      <td>0</td>\n",
       "    </tr>\n",
       "  </tbody>\n",
       "</table>\n",
       "</div>"
      ],
      "text/plain": [
       "   PassengerId  Survived  Pclass  \\\n",
       "0            1         0       3   \n",
       "1            2         1       1   \n",
       "2            3         1       3   \n",
       "3            4         1       1   \n",
       "4            5         0       3   \n",
       "\n",
       "                                                Name     Sex   Age  SibSp  \\\n",
       "0                            Braund, Mr. Owen Harris    male 22.00      1   \n",
       "1  Cumings, Mrs. John Bradley (Florence Briggs Th...  female 38.00      1   \n",
       "2                             Heikkinen, Miss. Laina  female 26.00      0   \n",
       "3       Futrelle, Mrs. Jacques Heath (Lily May Peel)  female 35.00      1   \n",
       "4                           Allen, Mr. William Henry    male 35.00      0   \n",
       "\n",
       "   Parch  \n",
       "0      0  \n",
       "1      0  \n",
       "2      0  \n",
       "3      0  \n",
       "4      0  "
      ]
     },
     "execution_count": 96,
     "metadata": {},
     "output_type": "execute_result"
    }
   ],
   "source": [
    "#Limpeza dos dados\n",
    "#Remover as colunas desnecessárias\n",
    "def remove(colunas):\n",
    "    for i in range(0, len(colunas)):\n",
    "        df.drop([colunas[i]],axis = 1, inplace = True)\n",
    "    return df.head()\n",
    "#Colunas a serem removidas\n",
    "colunas = ['Fare','Ticket','Cabin','Embarked']\n",
    "#Chama a funcao e passa o parâmetro das colunas a serem removidas\n",
    "remove(colunas)"
   ]
  },
  {
   "cell_type": "markdown",
   "metadata": {},
   "source": [
    "Retiramos as células que não farão diferença no presente estudo, como: Fare(tarifa), Ticket(Bilhete do Embarque), Cabin(Número da Cabine) e Embarked(Cidade onde a pessoa embarcou)"
   ]
  },
  {
   "cell_type": "code",
   "execution_count": 97,
   "metadata": {},
   "outputs": [
    {
     "data": {
      "text/plain": [
       "PassengerId      int64\n",
       "Survived         int64\n",
       "Pclass           int64\n",
       "Name            object\n",
       "Sex             object\n",
       "Age            float64\n",
       "SibSp            int64\n",
       "Parch            int64\n",
       "dtype: object"
      ]
     },
     "execution_count": 97,
     "metadata": {},
     "output_type": "execute_result"
    }
   ],
   "source": [
    "#encontrar os tipos das variáveis \n",
    "df.dtypes"
   ]
  },
  {
   "cell_type": "code",
   "execution_count": 98,
   "metadata": {},
   "outputs": [
    {
     "data": {
      "text/plain": [
       "PassengerId    891\n",
       "Survived       891\n",
       "Pclass         891\n",
       "Name           891\n",
       "Sex            891\n",
       "Age            714\n",
       "SibSp          891\n",
       "Parch          891\n",
       "dtype: int64"
      ]
     },
     "execution_count": 98,
     "metadata": {},
     "output_type": "execute_result"
    }
   ],
   "source": [
    "df.count()"
   ]
  },
  {
   "cell_type": "code",
   "execution_count": 99,
   "metadata": {},
   "outputs": [
    {
     "data": {
      "text/plain": [
       "Index(['PassengerId', 'Survived', 'Pclass', 'Name', 'Sex', 'Age', 'SibSp',\n",
       "       'Parch'],\n",
       "      dtype='object')"
      ]
     },
     "execution_count": 99,
     "metadata": {},
     "output_type": "execute_result"
    }
   ],
   "source": [
    "#descrever colunas\n",
    "df.columns"
   ]
  },
  {
   "cell_type": "code",
   "execution_count": 100,
   "metadata": {},
   "outputs": [
    {
     "name": "stdout",
     "output_type": "stream",
     "text": [
      "Sobreviveram: 342\n",
      "Não Sobreviveram: 549\n"
     ]
    }
   ],
   "source": [
    "#contar valores sobreviventes e não sobreviventes \n",
    "print('Sobreviveram:', df['Survived'].value_counts()[1])\n",
    "print('Não Sobreviveram:', df['Survived'].value_counts()[0])"
   ]
  },
  {
   "cell_type": "code",
   "execution_count": 101,
   "metadata": {},
   "outputs": [
    {
     "data": {
      "text/plain": [
       "Text(0, 0.5, '')"
      ]
     },
     "execution_count": 101,
     "metadata": {},
     "output_type": "execute_result"
    },
    {
     "data": {
      "image/png": "[encoded data removed]",
      "text/plain": [
       "<Figure size 432x288 with 1 Axes>"
      ]
     },
     "metadata": {},
     "output_type": "display_data"
    }
   ],
   "source": [
    "#gerar gráfico\n",
    "df['Survived'].value_counts().plot.pie(colors=('tab:purple','tab:blue'),\n",
    "                                           title='Percentual de Sobreviventes e Não-sobreviventes',\n",
    "                                           fontsize=15, shadow = True, startangle=90, autopct='%1.1f%%',\n",
    "                                           labels = ('Não sobreviveram','Sobreviveram'),\n",
    "                                           figsize=(6,4)).set_ylabel('')"
   ]
  },
  {
   "cell_type": "markdown",
   "metadata": {},
   "source": [
    "O número de sobreviventes foi pequeno, menos da metade, não havia botes suficientes para todos os passageiros, apenas 14 com capacidade total para 65 passageiros, a equipe não foi treinada para situações de risco ou naufrágio, isso porque na época acreditava-se que \"nada poderia afundar o Titanic\"."
   ]
  },
  {
   "cell_type": "code",
   "execution_count": 102,
   "metadata": {},
   "outputs": [
    {
     "data": {
      "text/plain": [
       "PassengerId      0\n",
       "Survived         0\n",
       "Pclass           0\n",
       "Name             0\n",
       "Sex              0\n",
       "Age            177\n",
       "SibSp            0\n",
       "Parch            0\n",
       "dtype: int64"
      ]
     },
     "execution_count": 102,
     "metadata": {},
     "output_type": "execute_result"
    }
   ],
   "source": [
    "#somar valores nulos\n",
    "df.isnull().sum()"
   ]
  },
  {
   "cell_type": "code",
   "execution_count": 103,
   "metadata": {},
   "outputs": [
    {
     "name": "stdout",
     "output_type": "stream",
     "text": [
      "Passageiros sem idade preenchida: 177\n",
      "Passageiros com idade preenchida: 714\n"
     ]
    }
   ],
   "source": [
    "#verificar quantidade de valores nulos na variável idade \n",
    "print('Passageiros sem idade preenchida:',df['Age'].isnull().sum())\n",
    "print('Passageiros com idade preenchida:', (df['Age'].count()))"
   ]
  },
  {
   "cell_type": "code",
   "execution_count": 110,
   "metadata": {},
   "outputs": [
    {
     "name": "stdout",
     "output_type": "stream",
     "text": [
      "Média de idade dos tripulantes: 29.69911764705882 Anos\n"
     ]
    }
   ],
   "source": [
    "#encontrar a média de idade dos passageiros\n",
    "print('Média de idade dos tripulantes:',df['Age'].mean(),'Anos')"
   ]
  },
  {
   "cell_type": "code",
   "execution_count": 104,
   "metadata": {},
   "outputs": [
    {
     "data": {
      "text/html": [
       "<div>\n",
       "<style scoped>\n",
       "    .dataframe tbody tr th:only-of-type {\n",
       "        vertical-align: middle;\n",
       "    }\n",
       "\n",
       "    .dataframe tbody tr th {\n",
       "        vertical-align: top;\n",
       "    }\n",
       "\n",
       "    .dataframe thead th {\n",
       "        text-align: right;\n",
       "    }\n",
       "</style>\n",
       "<table border=\"1\" class=\"dataframe\">\n",
       "  <thead>\n",
       "    <tr style=\"text-align: right;\">\n",
       "      <th></th>\n",
       "      <th>PassengerId</th>\n",
       "      <th>Survived</th>\n",
       "      <th>Pclass</th>\n",
       "      <th>Name</th>\n",
       "      <th>Sex</th>\n",
       "      <th>Age</th>\n",
       "      <th>SibSp</th>\n",
       "      <th>Parch</th>\n",
       "    </tr>\n",
       "  </thead>\n",
       "  <tbody>\n",
       "    <tr>\n",
       "      <th>0</th>\n",
       "      <td>1</td>\n",
       "      <td>0</td>\n",
       "      <td>3</td>\n",
       "      <td>Braund, Mr. Owen Harris</td>\n",
       "      <td>male</td>\n",
       "      <td>22.00</td>\n",
       "      <td>1</td>\n",
       "      <td>0</td>\n",
       "    </tr>\n",
       "    <tr>\n",
       "      <th>1</th>\n",
       "      <td>2</td>\n",
       "      <td>1</td>\n",
       "      <td>1</td>\n",
       "      <td>Cumings, Mrs. John Bradley (Florence Briggs Th...</td>\n",
       "      <td>female</td>\n",
       "      <td>38.00</td>\n",
       "      <td>1</td>\n",
       "      <td>0</td>\n",
       "    </tr>\n",
       "    <tr>\n",
       "      <th>2</th>\n",
       "      <td>3</td>\n",
       "      <td>1</td>\n",
       "      <td>3</td>\n",
       "      <td>Heikkinen, Miss. Laina</td>\n",
       "      <td>female</td>\n",
       "      <td>26.00</td>\n",
       "      <td>0</td>\n",
       "      <td>0</td>\n",
       "    </tr>\n",
       "    <tr>\n",
       "      <th>3</th>\n",
       "      <td>4</td>\n",
       "      <td>1</td>\n",
       "      <td>1</td>\n",
       "      <td>Futrelle, Mrs. Jacques Heath (Lily May Peel)</td>\n",
       "      <td>female</td>\n",
       "      <td>35.00</td>\n",
       "      <td>1</td>\n",
       "      <td>0</td>\n",
       "    </tr>\n",
       "    <tr>\n",
       "      <th>4</th>\n",
       "      <td>5</td>\n",
       "      <td>0</td>\n",
       "      <td>3</td>\n",
       "      <td>Allen, Mr. William Henry</td>\n",
       "      <td>male</td>\n",
       "      <td>35.00</td>\n",
       "      <td>0</td>\n",
       "      <td>0</td>\n",
       "    </tr>\n",
       "    <tr>\n",
       "      <th>5</th>\n",
       "      <td>6</td>\n",
       "      <td>0</td>\n",
       "      <td>3</td>\n",
       "      <td>Moran, Mr. James</td>\n",
       "      <td>male</td>\n",
       "      <td>29.70</td>\n",
       "      <td>0</td>\n",
       "      <td>0</td>\n",
       "    </tr>\n",
       "    <tr>\n",
       "      <th>6</th>\n",
       "      <td>7</td>\n",
       "      <td>0</td>\n",
       "      <td>1</td>\n",
       "      <td>McCarthy, Mr. Timothy J</td>\n",
       "      <td>male</td>\n",
       "      <td>54.00</td>\n",
       "      <td>0</td>\n",
       "      <td>0</td>\n",
       "    </tr>\n",
       "    <tr>\n",
       "      <th>7</th>\n",
       "      <td>8</td>\n",
       "      <td>0</td>\n",
       "      <td>3</td>\n",
       "      <td>Palsson, Master. Gosta Leonard</td>\n",
       "      <td>male</td>\n",
       "      <td>2.00</td>\n",
       "      <td>3</td>\n",
       "      <td>1</td>\n",
       "    </tr>\n",
       "    <tr>\n",
       "      <th>8</th>\n",
       "      <td>9</td>\n",
       "      <td>1</td>\n",
       "      <td>3</td>\n",
       "      <td>Johnson, Mrs. Oscar W (Elisabeth Vilhelmina Berg)</td>\n",
       "      <td>female</td>\n",
       "      <td>27.00</td>\n",
       "      <td>0</td>\n",
       "      <td>2</td>\n",
       "    </tr>\n",
       "    <tr>\n",
       "      <th>9</th>\n",
       "      <td>10</td>\n",
       "      <td>1</td>\n",
       "      <td>2</td>\n",
       "      <td>Nasser, Mrs. Nicholas (Adele Achem)</td>\n",
       "      <td>female</td>\n",
       "      <td>14.00</td>\n",
       "      <td>1</td>\n",
       "      <td>0</td>\n",
       "    </tr>\n",
       "    <tr>\n",
       "      <th>10</th>\n",
       "      <td>11</td>\n",
       "      <td>1</td>\n",
       "      <td>3</td>\n",
       "      <td>Sandstrom, Miss. Marguerite Rut</td>\n",
       "      <td>female</td>\n",
       "      <td>4.00</td>\n",
       "      <td>1</td>\n",
       "      <td>1</td>\n",
       "    </tr>\n",
       "    <tr>\n",
       "      <th>11</th>\n",
       "      <td>12</td>\n",
       "      <td>1</td>\n",
       "      <td>1</td>\n",
       "      <td>Bonnell, Miss. Elizabeth</td>\n",
       "      <td>female</td>\n",
       "      <td>58.00</td>\n",
       "      <td>0</td>\n",
       "      <td>0</td>\n",
       "    </tr>\n",
       "    <tr>\n",
       "      <th>12</th>\n",
       "      <td>13</td>\n",
       "      <td>0</td>\n",
       "      <td>3</td>\n",
       "      <td>Saundercock, Mr. William Henry</td>\n",
       "      <td>male</td>\n",
       "      <td>20.00</td>\n",
       "      <td>0</td>\n",
       "      <td>0</td>\n",
       "    </tr>\n",
       "    <tr>\n",
       "      <th>13</th>\n",
       "      <td>14</td>\n",
       "      <td>0</td>\n",
       "      <td>3</td>\n",
       "      <td>Andersson, Mr. Anders Johan</td>\n",
       "      <td>male</td>\n",
       "      <td>39.00</td>\n",
       "      <td>1</td>\n",
       "      <td>5</td>\n",
       "    </tr>\n",
       "    <tr>\n",
       "      <th>14</th>\n",
       "      <td>15</td>\n",
       "      <td>0</td>\n",
       "      <td>3</td>\n",
       "      <td>Vestrom, Miss. Hulda Amanda Adolfina</td>\n",
       "      <td>female</td>\n",
       "      <td>14.00</td>\n",
       "      <td>0</td>\n",
       "      <td>0</td>\n",
       "    </tr>\n",
       "    <tr>\n",
       "      <th>15</th>\n",
       "      <td>16</td>\n",
       "      <td>1</td>\n",
       "      <td>2</td>\n",
       "      <td>Hewlett, Mrs. (Mary D Kingcome)</td>\n",
       "      <td>female</td>\n",
       "      <td>55.00</td>\n",
       "      <td>0</td>\n",
       "      <td>0</td>\n",
       "    </tr>\n",
       "    <tr>\n",
       "      <th>16</th>\n",
       "      <td>17</td>\n",
       "      <td>0</td>\n",
       "      <td>3</td>\n",
       "      <td>Rice, Master. Eugene</td>\n",
       "      <td>male</td>\n",
       "      <td>2.00</td>\n",
       "      <td>4</td>\n",
       "      <td>1</td>\n",
       "    </tr>\n",
       "    <tr>\n",
       "      <th>17</th>\n",
       "      <td>18</td>\n",
       "      <td>1</td>\n",
       "      <td>2</td>\n",
       "      <td>Williams, Mr. Charles Eugene</td>\n",
       "      <td>male</td>\n",
       "      <td>29.70</td>\n",
       "      <td>0</td>\n",
       "      <td>0</td>\n",
       "    </tr>\n",
       "    <tr>\n",
       "      <th>18</th>\n",
       "      <td>19</td>\n",
       "      <td>0</td>\n",
       "      <td>3</td>\n",
       "      <td>Vander Planke, Mrs. Julius (Emelia Maria Vande...</td>\n",
       "      <td>female</td>\n",
       "      <td>31.00</td>\n",
       "      <td>1</td>\n",
       "      <td>0</td>\n",
       "    </tr>\n",
       "    <tr>\n",
       "      <th>19</th>\n",
       "      <td>20</td>\n",
       "      <td>1</td>\n",
       "      <td>3</td>\n",
       "      <td>Masselmani, Mrs. Fatima</td>\n",
       "      <td>female</td>\n",
       "      <td>29.70</td>\n",
       "      <td>0</td>\n",
       "      <td>0</td>\n",
       "    </tr>\n",
       "    <tr>\n",
       "      <th>20</th>\n",
       "      <td>21</td>\n",
       "      <td>0</td>\n",
       "      <td>2</td>\n",
       "      <td>Fynney, Mr. Joseph J</td>\n",
       "      <td>male</td>\n",
       "      <td>35.00</td>\n",
       "      <td>0</td>\n",
       "      <td>0</td>\n",
       "    </tr>\n",
       "    <tr>\n",
       "      <th>21</th>\n",
       "      <td>22</td>\n",
       "      <td>1</td>\n",
       "      <td>2</td>\n",
       "      <td>Beesley, Mr. Lawrence</td>\n",
       "      <td>male</td>\n",
       "      <td>34.00</td>\n",
       "      <td>0</td>\n",
       "      <td>0</td>\n",
       "    </tr>\n",
       "    <tr>\n",
       "      <th>22</th>\n",
       "      <td>23</td>\n",
       "      <td>1</td>\n",
       "      <td>3</td>\n",
       "      <td>McGowan, Miss. Anna \"Annie\"</td>\n",
       "      <td>female</td>\n",
       "      <td>15.00</td>\n",
       "      <td>0</td>\n",
       "      <td>0</td>\n",
       "    </tr>\n",
       "    <tr>\n",
       "      <th>23</th>\n",
       "      <td>24</td>\n",
       "      <td>1</td>\n",
       "      <td>1</td>\n",
       "      <td>Sloper, Mr. William Thompson</td>\n",
       "      <td>male</td>\n",
       "      <td>28.00</td>\n",
       "      <td>0</td>\n",
       "      <td>0</td>\n",
       "    </tr>\n",
       "    <tr>\n",
       "      <th>24</th>\n",
       "      <td>25</td>\n",
       "      <td>0</td>\n",
       "      <td>3</td>\n",
       "      <td>Palsson, Miss. Torborg Danira</td>\n",
       "      <td>female</td>\n",
       "      <td>8.00</td>\n",
       "      <td>3</td>\n",
       "      <td>1</td>\n",
       "    </tr>\n",
       "    <tr>\n",
       "      <th>25</th>\n",
       "      <td>26</td>\n",
       "      <td>1</td>\n",
       "      <td>3</td>\n",
       "      <td>Asplund, Mrs. Carl Oscar (Selma Augusta Emilia...</td>\n",
       "      <td>female</td>\n",
       "      <td>38.00</td>\n",
       "      <td>1</td>\n",
       "      <td>5</td>\n",
       "    </tr>\n",
       "    <tr>\n",
       "      <th>26</th>\n",
       "      <td>27</td>\n",
       "      <td>0</td>\n",
       "      <td>3</td>\n",
       "      <td>Emir, Mr. Farred Chehab</td>\n",
       "      <td>male</td>\n",
       "      <td>29.70</td>\n",
       "      <td>0</td>\n",
       "      <td>0</td>\n",
       "    </tr>\n",
       "    <tr>\n",
       "      <th>27</th>\n",
       "      <td>28</td>\n",
       "      <td>0</td>\n",
       "      <td>1</td>\n",
       "      <td>Fortune, Mr. Charles Alexander</td>\n",
       "      <td>male</td>\n",
       "      <td>19.00</td>\n",
       "      <td>3</td>\n",
       "      <td>2</td>\n",
       "    </tr>\n",
       "    <tr>\n",
       "      <th>28</th>\n",
       "      <td>29</td>\n",
       "      <td>1</td>\n",
       "      <td>3</td>\n",
       "      <td>O'Dwyer, Miss. Ellen \"Nellie\"</td>\n",
       "      <td>female</td>\n",
       "      <td>29.70</td>\n",
       "      <td>0</td>\n",
       "      <td>0</td>\n",
       "    </tr>\n",
       "    <tr>\n",
       "      <th>29</th>\n",
       "      <td>30</td>\n",
       "      <td>0</td>\n",
       "      <td>3</td>\n",
       "      <td>Todoroff, Mr. Lalio</td>\n",
       "      <td>male</td>\n",
       "      <td>29.70</td>\n",
       "      <td>0</td>\n",
       "      <td>0</td>\n",
       "    </tr>\n",
       "    <tr>\n",
       "      <th>...</th>\n",
       "      <td>...</td>\n",
       "      <td>...</td>\n",
       "      <td>...</td>\n",
       "      <td>...</td>\n",
       "      <td>...</td>\n",
       "      <td>...</td>\n",
       "      <td>...</td>\n",
       "      <td>...</td>\n",
       "    </tr>\n",
       "    <tr>\n",
       "      <th>861</th>\n",
       "      <td>862</td>\n",
       "      <td>0</td>\n",
       "      <td>2</td>\n",
       "      <td>Giles, Mr. Frederick Edward</td>\n",
       "      <td>male</td>\n",
       "      <td>21.00</td>\n",
       "      <td>1</td>\n",
       "      <td>0</td>\n",
       "    </tr>\n",
       "    <tr>\n",
       "      <th>862</th>\n",
       "      <td>863</td>\n",
       "      <td>1</td>\n",
       "      <td>1</td>\n",
       "      <td>Swift, Mrs. Frederick Joel (Margaret Welles Ba...</td>\n",
       "      <td>female</td>\n",
       "      <td>48.00</td>\n",
       "      <td>0</td>\n",
       "      <td>0</td>\n",
       "    </tr>\n",
       "    <tr>\n",
       "      <th>863</th>\n",
       "      <td>864</td>\n",
       "      <td>0</td>\n",
       "      <td>3</td>\n",
       "      <td>Sage, Miss. Dorothy Edith \"Dolly\"</td>\n",
       "      <td>female</td>\n",
       "      <td>29.70</td>\n",
       "      <td>8</td>\n",
       "      <td>2</td>\n",
       "    </tr>\n",
       "    <tr>\n",
       "      <th>864</th>\n",
       "      <td>865</td>\n",
       "      <td>0</td>\n",
       "      <td>2</td>\n",
       "      <td>Gill, Mr. John William</td>\n",
       "      <td>male</td>\n",
       "      <td>24.00</td>\n",
       "      <td>0</td>\n",
       "      <td>0</td>\n",
       "    </tr>\n",
       "    <tr>\n",
       "      <th>865</th>\n",
       "      <td>866</td>\n",
       "      <td>1</td>\n",
       "      <td>2</td>\n",
       "      <td>Bystrom, Mrs. (Karolina)</td>\n",
       "      <td>female</td>\n",
       "      <td>42.00</td>\n",
       "      <td>0</td>\n",
       "      <td>0</td>\n",
       "    </tr>\n",
       "    <tr>\n",
       "      <th>866</th>\n",
       "      <td>867</td>\n",
       "      <td>1</td>\n",
       "      <td>2</td>\n",
       "      <td>Duran y More, Miss. Asuncion</td>\n",
       "      <td>female</td>\n",
       "      <td>27.00</td>\n",
       "      <td>1</td>\n",
       "      <td>0</td>\n",
       "    </tr>\n",
       "    <tr>\n",
       "      <th>867</th>\n",
       "      <td>868</td>\n",
       "      <td>0</td>\n",
       "      <td>1</td>\n",
       "      <td>Roebling, Mr. Washington Augustus II</td>\n",
       "      <td>male</td>\n",
       "      <td>31.00</td>\n",
       "      <td>0</td>\n",
       "      <td>0</td>\n",
       "    </tr>\n",
       "    <tr>\n",
       "      <th>868</th>\n",
       "      <td>869</td>\n",
       "      <td>0</td>\n",
       "      <td>3</td>\n",
       "      <td>van Melkebeke, Mr. Philemon</td>\n",
       "      <td>male</td>\n",
       "      <td>29.70</td>\n",
       "      <td>0</td>\n",
       "      <td>0</td>\n",
       "    </tr>\n",
       "    <tr>\n",
       "      <th>869</th>\n",
       "      <td>870</td>\n",
       "      <td>1</td>\n",
       "      <td>3</td>\n",
       "      <td>Johnson, Master. Harold Theodor</td>\n",
       "      <td>male</td>\n",
       "      <td>4.00</td>\n",
       "      <td>1</td>\n",
       "      <td>1</td>\n",
       "    </tr>\n",
       "    <tr>\n",
       "      <th>870</th>\n",
       "      <td>871</td>\n",
       "      <td>0</td>\n",
       "      <td>3</td>\n",
       "      <td>Balkic, Mr. Cerin</td>\n",
       "      <td>male</td>\n",
       "      <td>26.00</td>\n",
       "      <td>0</td>\n",
       "      <td>0</td>\n",
       "    </tr>\n",
       "    <tr>\n",
       "      <th>871</th>\n",
       "      <td>872</td>\n",
       "      <td>1</td>\n",
       "      <td>1</td>\n",
       "      <td>Beckwith, Mrs. Richard Leonard (Sallie Monypeny)</td>\n",
       "      <td>female</td>\n",
       "      <td>47.00</td>\n",
       "      <td>1</td>\n",
       "      <td>1</td>\n",
       "    </tr>\n",
       "    <tr>\n",
       "      <th>872</th>\n",
       "      <td>873</td>\n",
       "      <td>0</td>\n",
       "      <td>1</td>\n",
       "      <td>Carlsson, Mr. Frans Olof</td>\n",
       "      <td>male</td>\n",
       "      <td>33.00</td>\n",
       "      <td>0</td>\n",
       "      <td>0</td>\n",
       "    </tr>\n",
       "    <tr>\n",
       "      <th>873</th>\n",
       "      <td>874</td>\n",
       "      <td>0</td>\n",
       "      <td>3</td>\n",
       "      <td>Vander Cruyssen, Mr. Victor</td>\n",
       "      <td>male</td>\n",
       "      <td>47.00</td>\n",
       "      <td>0</td>\n",
       "      <td>0</td>\n",
       "    </tr>\n",
       "    <tr>\n",
       "      <th>874</th>\n",
       "      <td>875</td>\n",
       "      <td>1</td>\n",
       "      <td>2</td>\n",
       "      <td>Abelson, Mrs. Samuel (Hannah Wizosky)</td>\n",
       "      <td>female</td>\n",
       "      <td>28.00</td>\n",
       "      <td>1</td>\n",
       "      <td>0</td>\n",
       "    </tr>\n",
       "    <tr>\n",
       "      <th>875</th>\n",
       "      <td>876</td>\n",
       "      <td>1</td>\n",
       "      <td>3</td>\n",
       "      <td>Najib, Miss. Adele Kiamie \"Jane\"</td>\n",
       "      <td>female</td>\n",
       "      <td>15.00</td>\n",
       "      <td>0</td>\n",
       "      <td>0</td>\n",
       "    </tr>\n",
       "    <tr>\n",
       "      <th>876</th>\n",
       "      <td>877</td>\n",
       "      <td>0</td>\n",
       "      <td>3</td>\n",
       "      <td>Gustafsson, Mr. Alfred Ossian</td>\n",
       "      <td>male</td>\n",
       "      <td>20.00</td>\n",
       "      <td>0</td>\n",
       "      <td>0</td>\n",
       "    </tr>\n",
       "    <tr>\n",
       "      <th>877</th>\n",
       "      <td>878</td>\n",
       "      <td>0</td>\n",
       "      <td>3</td>\n",
       "      <td>Petroff, Mr. Nedelio</td>\n",
       "      <td>male</td>\n",
       "      <td>19.00</td>\n",
       "      <td>0</td>\n",
       "      <td>0</td>\n",
       "    </tr>\n",
       "    <tr>\n",
       "      <th>878</th>\n",
       "      <td>879</td>\n",
       "      <td>0</td>\n",
       "      <td>3</td>\n",
       "      <td>Laleff, Mr. Kristo</td>\n",
       "      <td>male</td>\n",
       "      <td>29.70</td>\n",
       "      <td>0</td>\n",
       "      <td>0</td>\n",
       "    </tr>\n",
       "    <tr>\n",
       "      <th>879</th>\n",
       "      <td>880</td>\n",
       "      <td>1</td>\n",
       "      <td>1</td>\n",
       "      <td>Potter, Mrs. Thomas Jr (Lily Alexenia Wilson)</td>\n",
       "      <td>female</td>\n",
       "      <td>56.00</td>\n",
       "      <td>0</td>\n",
       "      <td>1</td>\n",
       "    </tr>\n",
       "    <tr>\n",
       "      <th>880</th>\n",
       "      <td>881</td>\n",
       "      <td>1</td>\n",
       "      <td>2</td>\n",
       "      <td>Shelley, Mrs. William (Imanita Parrish Hall)</td>\n",
       "      <td>female</td>\n",
       "      <td>25.00</td>\n",
       "      <td>0</td>\n",
       "      <td>1</td>\n",
       "    </tr>\n",
       "    <tr>\n",
       "      <th>881</th>\n",
       "      <td>882</td>\n",
       "      <td>0</td>\n",
       "      <td>3</td>\n",
       "      <td>Markun, Mr. Johann</td>\n",
       "      <td>male</td>\n",
       "      <td>33.00</td>\n",
       "      <td>0</td>\n",
       "      <td>0</td>\n",
       "    </tr>\n",
       "    <tr>\n",
       "      <th>882</th>\n",
       "      <td>883</td>\n",
       "      <td>0</td>\n",
       "      <td>3</td>\n",
       "      <td>Dahlberg, Miss. Gerda Ulrika</td>\n",
       "      <td>female</td>\n",
       "      <td>22.00</td>\n",
       "      <td>0</td>\n",
       "      <td>0</td>\n",
       "    </tr>\n",
       "    <tr>\n",
       "      <th>883</th>\n",
       "      <td>884</td>\n",
       "      <td>0</td>\n",
       "      <td>2</td>\n",
       "      <td>Banfield, Mr. Frederick James</td>\n",
       "      <td>male</td>\n",
       "      <td>28.00</td>\n",
       "      <td>0</td>\n",
       "      <td>0</td>\n",
       "    </tr>\n",
       "    <tr>\n",
       "      <th>884</th>\n",
       "      <td>885</td>\n",
       "      <td>0</td>\n",
       "      <td>3</td>\n",
       "      <td>Sutehall, Mr. Henry Jr</td>\n",
       "      <td>male</td>\n",
       "      <td>25.00</td>\n",
       "      <td>0</td>\n",
       "      <td>0</td>\n",
       "    </tr>\n",
       "    <tr>\n",
       "      <th>885</th>\n",
       "      <td>886</td>\n",
       "      <td>0</td>\n",
       "      <td>3</td>\n",
       "      <td>Rice, Mrs. William (Margaret Norton)</td>\n",
       "      <td>female</td>\n",
       "      <td>39.00</td>\n",
       "      <td>0</td>\n",
       "      <td>5</td>\n",
       "    </tr>\n",
       "    <tr>\n",
       "      <th>886</th>\n",
       "      <td>887</td>\n",
       "      <td>0</td>\n",
       "      <td>2</td>\n",
       "      <td>Montvila, Rev. Juozas</td>\n",
       "      <td>male</td>\n",
       "      <td>27.00</td>\n",
       "      <td>0</td>\n",
       "      <td>0</td>\n",
       "    </tr>\n",
       "    <tr>\n",
       "      <th>887</th>\n",
       "      <td>888</td>\n",
       "      <td>1</td>\n",
       "      <td>1</td>\n",
       "      <td>Graham, Miss. Margaret Edith</td>\n",
       "      <td>female</td>\n",
       "      <td>19.00</td>\n",
       "      <td>0</td>\n",
       "      <td>0</td>\n",
       "    </tr>\n",
       "    <tr>\n",
       "      <th>888</th>\n",
       "      <td>889</td>\n",
       "      <td>0</td>\n",
       "      <td>3</td>\n",
       "      <td>Johnston, Miss. Catherine Helen \"Carrie\"</td>\n",
       "      <td>female</td>\n",
       "      <td>29.70</td>\n",
       "      <td>1</td>\n",
       "      <td>2</td>\n",
       "    </tr>\n",
       "    <tr>\n",
       "      <th>889</th>\n",
       "      <td>890</td>\n",
       "      <td>1</td>\n",
       "      <td>1</td>\n",
       "      <td>Behr, Mr. Karl Howell</td>\n",
       "      <td>male</td>\n",
       "      <td>26.00</td>\n",
       "      <td>0</td>\n",
       "      <td>0</td>\n",
       "    </tr>\n",
       "    <tr>\n",
       "      <th>890</th>\n",
       "      <td>891</td>\n",
       "      <td>0</td>\n",
       "      <td>3</td>\n",
       "      <td>Dooley, Mr. Patrick</td>\n",
       "      <td>male</td>\n",
       "      <td>32.00</td>\n",
       "      <td>0</td>\n",
       "      <td>0</td>\n",
       "    </tr>\n",
       "  </tbody>\n",
       "</table>\n",
       "<p>891 rows × 8 columns</p>\n",
       "</div>"
      ],
      "text/plain": [
       "     PassengerId  Survived  Pclass  \\\n",
       "0              1         0       3   \n",
       "1              2         1       1   \n",
       "2              3         1       3   \n",
       "3              4         1       1   \n",
       "4              5         0       3   \n",
       "5              6         0       3   \n",
       "6              7         0       1   \n",
       "7              8         0       3   \n",
       "8              9         1       3   \n",
       "9             10         1       2   \n",
       "10            11         1       3   \n",
       "11            12         1       1   \n",
       "12            13         0       3   \n",
       "13            14         0       3   \n",
       "14            15         0       3   \n",
       "15            16         1       2   \n",
       "16            17         0       3   \n",
       "17            18         1       2   \n",
       "18            19         0       3   \n",
       "19            20         1       3   \n",
       "20            21         0       2   \n",
       "21            22         1       2   \n",
       "22            23         1       3   \n",
       "23            24         1       1   \n",
       "24            25         0       3   \n",
       "25            26         1       3   \n",
       "26            27         0       3   \n",
       "27            28         0       1   \n",
       "28            29         1       3   \n",
       "29            30         0       3   \n",
       "..           ...       ...     ...   \n",
       "861          862         0       2   \n",
       "862          863         1       1   \n",
       "863          864         0       3   \n",
       "864          865         0       2   \n",
       "865          866         1       2   \n",
       "866          867         1       2   \n",
       "867          868         0       1   \n",
       "868          869         0       3   \n",
       "869          870         1       3   \n",
       "870          871         0       3   \n",
       "871          872         1       1   \n",
       "872          873         0       1   \n",
       "873          874         0       3   \n",
       "874          875         1       2   \n",
       "875          876         1       3   \n",
       "876          877         0       3   \n",
       "877          878         0       3   \n",
       "878          879         0       3   \n",
       "879          880         1       1   \n",
       "880          881         1       2   \n",
       "881          882         0       3   \n",
       "882          883         0       3   \n",
       "883          884         0       2   \n",
       "884          885         0       3   \n",
       "885          886         0       3   \n",
       "886          887         0       2   \n",
       "887          888         1       1   \n",
       "888          889         0       3   \n",
       "889          890         1       1   \n",
       "890          891         0       3   \n",
       "\n",
       "                                                  Name     Sex   Age  SibSp  \\\n",
       "0                              Braund, Mr. Owen Harris    male 22.00      1   \n",
       "1    Cumings, Mrs. John Bradley (Florence Briggs Th...  female 38.00      1   \n",
       "2                               Heikkinen, Miss. Laina  female 26.00      0   \n",
       "3         Futrelle, Mrs. Jacques Heath (Lily May Peel)  female 35.00      1   \n",
       "4                             Allen, Mr. William Henry    male 35.00      0   \n",
       "5                                     Moran, Mr. James    male 29.70      0   \n",
       "6                              McCarthy, Mr. Timothy J    male 54.00      0   \n",
       "7                       Palsson, Master. Gosta Leonard    male  2.00      3   \n",
       "8    Johnson, Mrs. Oscar W (Elisabeth Vilhelmina Berg)  female 27.00      0   \n",
       "9                  Nasser, Mrs. Nicholas (Adele Achem)  female 14.00      1   \n",
       "10                     Sandstrom, Miss. Marguerite Rut  female  4.00      1   \n",
       "11                            Bonnell, Miss. Elizabeth  female 58.00      0   \n",
       "12                      Saundercock, Mr. William Henry    male 20.00      0   \n",
       "13                         Andersson, Mr. Anders Johan    male 39.00      1   \n",
       "14                Vestrom, Miss. Hulda Amanda Adolfina  female 14.00      0   \n",
       "15                    Hewlett, Mrs. (Mary D Kingcome)   female 55.00      0   \n",
       "16                                Rice, Master. Eugene    male  2.00      4   \n",
       "17                        Williams, Mr. Charles Eugene    male 29.70      0   \n",
       "18   Vander Planke, Mrs. Julius (Emelia Maria Vande...  female 31.00      1   \n",
       "19                             Masselmani, Mrs. Fatima  female 29.70      0   \n",
       "20                                Fynney, Mr. Joseph J    male 35.00      0   \n",
       "21                               Beesley, Mr. Lawrence    male 34.00      0   \n",
       "22                         McGowan, Miss. Anna \"Annie\"  female 15.00      0   \n",
       "23                        Sloper, Mr. William Thompson    male 28.00      0   \n",
       "24                       Palsson, Miss. Torborg Danira  female  8.00      3   \n",
       "25   Asplund, Mrs. Carl Oscar (Selma Augusta Emilia...  female 38.00      1   \n",
       "26                             Emir, Mr. Farred Chehab    male 29.70      0   \n",
       "27                      Fortune, Mr. Charles Alexander    male 19.00      3   \n",
       "28                       O'Dwyer, Miss. Ellen \"Nellie\"  female 29.70      0   \n",
       "29                                 Todoroff, Mr. Lalio    male 29.70      0   \n",
       "..                                                 ...     ...   ...    ...   \n",
       "861                        Giles, Mr. Frederick Edward    male 21.00      1   \n",
       "862  Swift, Mrs. Frederick Joel (Margaret Welles Ba...  female 48.00      0   \n",
       "863                  Sage, Miss. Dorothy Edith \"Dolly\"  female 29.70      8   \n",
       "864                             Gill, Mr. John William    male 24.00      0   \n",
       "865                           Bystrom, Mrs. (Karolina)  female 42.00      0   \n",
       "866                       Duran y More, Miss. Asuncion  female 27.00      1   \n",
       "867               Roebling, Mr. Washington Augustus II    male 31.00      0   \n",
       "868                        van Melkebeke, Mr. Philemon    male 29.70      0   \n",
       "869                    Johnson, Master. Harold Theodor    male  4.00      1   \n",
       "870                                  Balkic, Mr. Cerin    male 26.00      0   \n",
       "871   Beckwith, Mrs. Richard Leonard (Sallie Monypeny)  female 47.00      1   \n",
       "872                           Carlsson, Mr. Frans Olof    male 33.00      0   \n",
       "873                        Vander Cruyssen, Mr. Victor    male 47.00      0   \n",
       "874              Abelson, Mrs. Samuel (Hannah Wizosky)  female 28.00      1   \n",
       "875                   Najib, Miss. Adele Kiamie \"Jane\"  female 15.00      0   \n",
       "876                      Gustafsson, Mr. Alfred Ossian    male 20.00      0   \n",
       "877                               Petroff, Mr. Nedelio    male 19.00      0   \n",
       "878                                 Laleff, Mr. Kristo    male 29.70      0   \n",
       "879      Potter, Mrs. Thomas Jr (Lily Alexenia Wilson)  female 56.00      0   \n",
       "880       Shelley, Mrs. William (Imanita Parrish Hall)  female 25.00      0   \n",
       "881                                 Markun, Mr. Johann    male 33.00      0   \n",
       "882                       Dahlberg, Miss. Gerda Ulrika  female 22.00      0   \n",
       "883                      Banfield, Mr. Frederick James    male 28.00      0   \n",
       "884                             Sutehall, Mr. Henry Jr    male 25.00      0   \n",
       "885               Rice, Mrs. William (Margaret Norton)  female 39.00      0   \n",
       "886                              Montvila, Rev. Juozas    male 27.00      0   \n",
       "887                       Graham, Miss. Margaret Edith  female 19.00      0   \n",
       "888           Johnston, Miss. Catherine Helen \"Carrie\"  female 29.70      1   \n",
       "889                              Behr, Mr. Karl Howell    male 26.00      0   \n",
       "890                                Dooley, Mr. Patrick    male 32.00      0   \n",
       "\n",
       "     Parch  \n",
       "0        0  \n",
       "1        0  \n",
       "2        0  \n",
       "3        0  \n",
       "4        0  \n",
       "5        0  \n",
       "6        0  \n",
       "7        1  \n",
       "8        2  \n",
       "9        0  \n",
       "10       1  \n",
       "11       0  \n",
       "12       0  \n",
       "13       5  \n",
       "14       0  \n",
       "15       0  \n",
       "16       1  \n",
       "17       0  \n",
       "18       0  \n",
       "19       0  \n",
       "20       0  \n",
       "21       0  \n",
       "22       0  \n",
       "23       0  \n",
       "24       1  \n",
       "25       5  \n",
       "26       0  \n",
       "27       2  \n",
       "28       0  \n",
       "29       0  \n",
       "..     ...  \n",
       "861      0  \n",
       "862      0  \n",
       "863      2  \n",
       "864      0  \n",
       "865      0  \n",
       "866      0  \n",
       "867      0  \n",
       "868      0  \n",
       "869      1  \n",
       "870      0  \n",
       "871      1  \n",
       "872      0  \n",
       "873      0  \n",
       "874      0  \n",
       "875      0  \n",
       "876      0  \n",
       "877      0  \n",
       "878      0  \n",
       "879      1  \n",
       "880      1  \n",
       "881      0  \n",
       "882      0  \n",
       "883      0  \n",
       "884      0  \n",
       "885      5  \n",
       "886      0  \n",
       "887      0  \n",
       "888      2  \n",
       "889      0  \n",
       "890      0  \n",
       "\n",
       "[891 rows x 8 columns]"
      ]
     },
     "execution_count": 104,
     "metadata": {},
     "output_type": "execute_result"
    }
   ],
   "source": [
    "#preencher os valores faltantes em Idade com a média \n",
    "df.fillna(df['Age'].mean())"
   ]
  },
  {
   "cell_type": "code",
   "execution_count": 105,
   "metadata": {},
   "outputs": [
    {
     "data": {
      "text/plain": [
       "Text(0, 0.5, 'Frequência')"
      ]
     },
     "execution_count": 105,
     "metadata": {},
     "output_type": "execute_result"
    },
    {
     "data": {
      "text/plain": [
       "<Figure size 432x288 with 0 Axes>"
      ]
     },
     "metadata": {},
     "output_type": "display_data"
    },
    {
     "data": {
      "image/png": "[encoded data removed]",
      "text/plain": [
       "<Figure size 720x288 with 1 Axes>"
      ]
     },
     "metadata": {
      "needs_background": "light"
     },
     "output_type": "display_data"
    }
   ],
   "source": [
    "#gerar histograma da frequência das idades  \n",
    "plt.figure();\n",
    "df.hist(column='Age', color=('blue'), alpha=0.8, bins=10, figsize=(10,4))\n",
    "plt.title('Faixa Etária dos Passageiros')\n",
    "plt.xlabel('Idade')\n",
    "plt.ylabel('Frequência')"
   ]
  },
  {
   "cell_type": "code",
   "execution_count": 107,
   "metadata": {},
   "outputs": [
    {
     "data": {
      "image/png": "[encoded data removed]",
      "text/plain": [
       "<Figure size 1080x360 with 2 Axes>"
      ]
     },
     "metadata": {
      "needs_background": "light"
     },
     "output_type": "display_data"
    }
   ],
   "source": [
    "f,ax=plt.subplots(1,2,figsize=(15,5))\n",
    "df[df['Survived']==1].Age.plot.hist(ax=ax[0],bins=20,edgecolor='black',color='blue')\n",
    "ax[0].set_title('Idade dos Sobreviventes= 1')\n",
    "x1=list(range(0,85,5))\n",
    "ax[0].set_xticks(x1)\n",
    "df[df['Survived']==0].Age.plot.hist(ax=ax[1],bins=20,edgecolor='black',color='purple')\n",
    "ax[1].set_title('Idade dos Não-Sobreviventes= 0')\n",
    "x2=list(range(0,85,5))\n",
    "ax[1].set_xticks(x2)\n",
    "plt.show()"
   ]
  },
  {
   "cell_type": "markdown",
   "metadata": {},
   "source": [
    "Foram retirados os valores que não estavam com idade preenchida na época muitas pessoas não tinham \n",
    "documentação apropriada, muitas vezes sem registro da data de nascimento, foi realizado o preenchimento com a\n",
    "média dos valores para prosseguimento da análise. \n",
    "elos gráficos podemos ver que muitos dos sobreviventes eram crianças e pessoas entre 20 a 35 anos, os passageiros idosos não foram socorridos, a quase totalidade da faixa acima de 64 anos morreu no naufrágio. "
   ]
  },
  {
   "cell_type": "code",
   "execution_count": 241,
   "metadata": {},
   "outputs": [
    {
     "data": {
      "text/plain": [
       "Text(0.5, 1.0, 'Gráfico de Densidade Sobrevivência x Idade')"
      ]
     },
     "execution_count": 241,
     "metadata": {},
     "output_type": "execute_result"
    },
    {
     "data": {
      "image/png": "[encoded data removed]",
      "text/plain": [
       "<Figure size 432x288 with 1 Axes>"
      ]
     },
     "metadata": {},
     "output_type": "display_data"
    }
   ],
   "source": [
    "import seaborn as sns\n",
    "ax = sns.kdeplot(df['Survived'], shade= True, color='r', bw=20)\n",
    "ax = sns.kdeplot(df['Age'], shade=True, color='b', bw=20)\n",
    "plt.xlabel('Idade')\n",
    "plt.ylabel('Densidade')\n",
    "plt.title('Gráfico de Densidade Sobrevivência x Idade')"
   ]
  },
  {
   "cell_type": "code",
   "execution_count": 242,
   "metadata": {},
   "outputs": [
    {
     "data": {
      "text/plain": [
       "Sex     Survived\n",
       "female  0            81\n",
       "        1           233\n",
       "male    0           468\n",
       "        1           109\n",
       "Name: Survived, dtype: int64"
      ]
     },
     "execution_count": 242,
     "metadata": {},
     "output_type": "execute_result"
    }
   ],
   "source": [
    "#realizar contagem dos sobreviventes diferenciando do sexo \n",
    "df.groupby(['Sex','Survived'])['Survived'].count()"
   ]
  },
  {
   "cell_type": "code",
   "execution_count": 243,
   "metadata": {},
   "outputs": [
    {
     "data": {
      "text/plain": [
       "<matplotlib.axes._subplots.AxesSubplot at 0x1c4290aad30>"
      ]
     },
     "execution_count": 243,
     "metadata": {},
     "output_type": "execute_result"
    },
    {
     "data": {
      "image/png": "[encoded data removed]",
      "text/plain": [
       "<Figure size 432x288 with 1 Axes>"
      ]
     },
     "metadata": {},
     "output_type": "display_data"
    }
   ],
   "source": [
    "sns.countplot(x='Sex', data=df, palette ='RdBu')"
   ]
  },
  {
   "cell_type": "code",
   "execution_count": 253,
   "metadata": {},
   "outputs": [
    {
     "data": {
      "text/plain": [
       "Text(0, 0.5, '')"
      ]
     },
     "execution_count": 253,
     "metadata": {},
     "output_type": "execute_result"
    },
    {
     "data": {
      "image/png": "[encoded data removed]",
      "text/plain": [
       "<Figure size 432x288 with 1 Axes>"
      ]
     },
     "metadata": {},
     "output_type": "display_data"
    }
   ],
   "source": [
    "df.groupby('Sex').count()['PassengerId'].plot.pie(title='Passageiros por Sexo',\n",
    "                                                colors=('tab:pink','tab:blue'), figsize=(6,4), labels=('Mulheres','Homens'),\n",
    "                                                startangle=90, autopct='%1.0f%%', shadow=True).set_ylabel('')"
   ]
  },
  {
   "cell_type": "code",
   "execution_count": 245,
   "metadata": {},
   "outputs": [
    {
     "data": {
      "text/plain": [
       "Text(0, 0.5, 'Quant.')"
      ]
     },
     "execution_count": 245,
     "metadata": {},
     "output_type": "execute_result"
    },
    {
     "data": {
      "image/png": "[encoded data removed]",
      "text/plain": [
       "<Figure size 432x288 with 1 Axes>"
      ]
     },
     "metadata": {},
     "output_type": "display_data"
    }
   ],
   "source": [
    "df.pivot_table(index=('Sex'), values=('Survived'), aggfunc=np.sum)[['Survived']].plot(kind='bar', rot=0, \n",
    "    colors=('blue'), stacked=True,\n",
    "    title='Quantidade de Sobreviventes e de Não sobreviventes por Sexo').set_xlabel('Sex')\n",
    "plt.ylabel('Quant.')"
   ]
  },
  {
   "cell_type": "code",
   "execution_count": 246,
   "metadata": {},
   "outputs": [
    {
     "data": {
      "image/png": "[encoded data removed]",
      "text/plain": [
       "<Figure size 1296x576 with 2 Axes>"
      ]
     },
     "metadata": {},
     "output_type": "display_data"
    }
   ],
   "source": [
    "#gerar histograma da diferença dos sobreviventes por diferença de sexo \n",
    "f,ax=plt.subplots(1,2,figsize=(18,8))\n",
    "df[['Sex','Survived']].groupby(['Sex']).mean().plot.bar(ax=ax[0])\n",
    "ax[0].set_title('Sobrevivência x Sexo')\n",
    "sns.countplot('Sex',hue='Survived',data=df,ax=ax[1])\n",
    "ax[1].set_title('Diferença de sobreviventes por classificação de Sexo')\n",
    "plt.show()"
   ]
  },
  {
   "cell_type": "markdown",
   "metadata": {},
   "source": [
    "Seguindo o código de conduta Birkenhead Drill de 1852, pelo qual as vidas de mulheres e crianças deveriam ser salvas primeiro em uma situação que ameaça a vida, conforme informações do naufrágio, a ordem foi mal-interpretada por um Capitão como \"apenas mulheres e crianças\", chegando inclusive a não autorizar tripulantes do sexo masculino a entrarem nos botes, explicando-se porque mesmo sendo menos da metade dos passageiros homens, foram mais do que o dobro dos sobreviventes, os gráficos também mostram que a taxa de sobrevivência de crianças foi alta."
   ]
  },
  {
   "cell_type": "code",
   "execution_count": 247,
   "metadata": {},
   "outputs": [
    {
     "data": {
      "text/plain": [
       "Text(0, 0.5, 'Quantidade')"
      ]
     },
     "execution_count": 247,
     "metadata": {},
     "output_type": "execute_result"
    },
    {
     "data": {
      "image/png": "[encoded data removed]",
      "text/plain": [
       "<Figure size 1080x360 with 1 Axes>"
      ]
     },
     "metadata": {},
     "output_type": "display_data"
    }
   ],
   "source": [
    "#gráfico visualização quantidade de pessoas x classe \n",
    "df.pivot_table(index='Pclass', values='PassengerId', aggfunc='count').plot(kind='bar', figsize=(15,5), legend=None,\n",
    "                                                                          title='Quantidade de pessoas por classe', color='purple',\n",
    "                                                                          rot=0).set_xlabel('Classe')\n",
    "plt.ylabel('Quantidade')"
   ]
  },
  {
   "cell_type": "code",
   "execution_count": 248,
   "metadata": {},
   "outputs": [
    {
     "data": {
      "text/plain": [
       "Pclass\n",
       "1    136\n",
       "2     87\n",
       "3    119\n",
       "Name: Survived, dtype: int64"
      ]
     },
     "execution_count": 248,
     "metadata": {},
     "output_type": "execute_result"
    }
   ],
   "source": [
    "#somar a quantidade de sobreviventes por classe \n",
    "df[df['Survived']==1].groupby('Pclass').sum()['Survived']"
   ]
  },
  {
   "cell_type": "code",
   "execution_count": 249,
   "metadata": {},
   "outputs": [
    {
     "data": {
      "text/plain": [
       "Text(0, 0.5, 'Quantidade')"
      ]
     },
     "execution_count": 249,
     "metadata": {},
     "output_type": "execute_result"
    },
    {
     "data": {
      "image/png": "[encoded data removed]",
      "text/plain": [
       "<Figure size 432x288 with 1 Axes>"
      ]
     },
     "metadata": {},
     "output_type": "display_data"
    }
   ],
   "source": [
    "#gráfico tipo Bar para visualização da quantidade de sobreviventes x classe\n",
    "df[df['Survived']==1].groupby('Pclass').sum()['Survived'].plot(kind='bar', title = 'Sobreviventes por Classe', \n",
    "                                                            color='blue', rot=0).set_xlabel('Classe')\n",
    "plt.ylabel('Quantidade')"
   ]
  },
  {
   "cell_type": "markdown",
   "metadata": {},
   "source": [
    "Conforme o estudo, o maior percentual de passageiros que se salvaram foram os da 1 ª classe isso porque\n",
    "\"O tratamento recebido dependia da posição social; os comissários da primeira classe cuidavam cada um de apenas \n",
    "algumas cabines, então eles podiam ajudar os passageiros a se vestirem e irem para o convés, enquanto os comissários \n",
    "da segunda e terceira classe tinham de percorrer várias cabines rapidamente, rudemente acordar os passageiros e mandá-los\n",
    "colocarem coletes salva-vidas. Apesar das ordens, muitos passageiros e tripulantes estavam relutantes em atender os \n",
    "pedidos, por não acreditarem que o Titanic estava em perigo ou por não quererem sair no frio da noite. \n",
    "Não foi dito que o navio estava afundando, porém algumas pessoas perceberam que ele estava inclinando.\"\n",
    "\"Muito poucas pessoas da terceira classe tinham conseguido chegar ao convés superior, com a maioria se perdendo nos \n",
    "labirintos de corredores ou ficando presos atrás de grades que segregavam as acomodações da terceira classe daquelas da \n",
    "primeira e segunda. Aparentemente em pelo menos em alguns lugares, a tripulação do Titanic ativamente impediu que os \n",
    "passageiros da terceira classe escapassem, com barreiras trancadas e vigiadas por tripulantes a fim de impedir que as pessoas corressem para os botes"
   ]
  },
  {
   "cell_type": "code",
   "execution_count": 250,
   "metadata": {},
   "outputs": [
    {
     "data": {
      "text/plain": [
       "<seaborn.axisgrid.FacetGrid at 0x1c42c871c18>"
      ]
     },
     "execution_count": 250,
     "metadata": {},
     "output_type": "execute_result"
    },
    {
     "data": {
      "image/png": "[encoded data removed]",
      "text/plain": [
       "<Figure size 432.85x360 with 1 Axes>"
      ]
     },
     "metadata": {},
     "output_type": "display_data"
    }
   ],
   "source": [
    "sns.lmplot(x='Pclass', y='Survived', data=df, hue='Sex',size =5,scatter=True, legend='Comparação Sobreviventes por Sexo')"
   ]
  },
  {
   "cell_type": "code",
   "execution_count": 251,
   "metadata": {},
   "outputs": [
    {
     "data": {
      "text/html": [
       "<div>\n",
       "<style scoped>\n",
       "    .dataframe tbody tr th:only-of-type {\n",
       "        vertical-align: middle;\n",
       "    }\n",
       "\n",
       "    .dataframe tbody tr th {\n",
       "        vertical-align: top;\n",
       "    }\n",
       "\n",
       "    .dataframe thead th {\n",
       "        text-align: right;\n",
       "    }\n",
       "</style>\n",
       "<table border=\"1\" class=\"dataframe\">\n",
       "  <thead>\n",
       "    <tr style=\"text-align: right;\">\n",
       "      <th></th>\n",
       "      <th>PassengerId</th>\n",
       "      <th>Survived</th>\n",
       "      <th>Pclass</th>\n",
       "      <th>Age</th>\n",
       "      <th>SibSp</th>\n",
       "      <th>Parch</th>\n",
       "    </tr>\n",
       "  </thead>\n",
       "  <tbody>\n",
       "    <tr>\n",
       "      <th>PassengerId</th>\n",
       "      <td>1.00</td>\n",
       "      <td>-0.01</td>\n",
       "      <td>-0.04</td>\n",
       "      <td>0.04</td>\n",
       "      <td>-0.06</td>\n",
       "      <td>-0.00</td>\n",
       "    </tr>\n",
       "    <tr>\n",
       "      <th>Survived</th>\n",
       "      <td>-0.01</td>\n",
       "      <td>1.00</td>\n",
       "      <td>-0.34</td>\n",
       "      <td>-0.08</td>\n",
       "      <td>-0.04</td>\n",
       "      <td>0.08</td>\n",
       "    </tr>\n",
       "    <tr>\n",
       "      <th>Pclass</th>\n",
       "      <td>-0.04</td>\n",
       "      <td>-0.34</td>\n",
       "      <td>1.00</td>\n",
       "      <td>-0.37</td>\n",
       "      <td>0.08</td>\n",
       "      <td>0.02</td>\n",
       "    </tr>\n",
       "    <tr>\n",
       "      <th>Age</th>\n",
       "      <td>0.04</td>\n",
       "      <td>-0.08</td>\n",
       "      <td>-0.37</td>\n",
       "      <td>1.00</td>\n",
       "      <td>-0.31</td>\n",
       "      <td>-0.19</td>\n",
       "    </tr>\n",
       "    <tr>\n",
       "      <th>SibSp</th>\n",
       "      <td>-0.06</td>\n",
       "      <td>-0.04</td>\n",
       "      <td>0.08</td>\n",
       "      <td>-0.31</td>\n",
       "      <td>1.00</td>\n",
       "      <td>0.41</td>\n",
       "    </tr>\n",
       "    <tr>\n",
       "      <th>Parch</th>\n",
       "      <td>-0.00</td>\n",
       "      <td>0.08</td>\n",
       "      <td>0.02</td>\n",
       "      <td>-0.19</td>\n",
       "      <td>0.41</td>\n",
       "      <td>1.00</td>\n",
       "    </tr>\n",
       "  </tbody>\n",
       "</table>\n",
       "</div>"
      ],
      "text/plain": [
       "             PassengerId  Survived  Pclass   Age  SibSp  Parch\n",
       "PassengerId         1.00     -0.01   -0.04  0.04  -0.06  -0.00\n",
       "Survived           -0.01      1.00   -0.34 -0.08  -0.04   0.08\n",
       "Pclass             -0.04     -0.34    1.00 -0.37   0.08   0.02\n",
       "Age                 0.04     -0.08   -0.37  1.00  -0.31  -0.19\n",
       "SibSp              -0.06     -0.04    0.08 -0.31   1.00   0.41\n",
       "Parch              -0.00      0.08    0.02 -0.19   0.41   1.00"
      ]
     },
     "execution_count": 251,
     "metadata": {},
     "output_type": "execute_result"
    }
   ],
   "source": [
    "#definir a correlação entre as variáveis\n",
    "corr = df.corr()\n",
    "corr"
   ]
  },
  {
   "cell_type": "code",
   "execution_count": 252,
   "metadata": {},
   "outputs": [
    {
     "data": {
      "text/plain": [
       "Text(0.5, 1.0, 'Correlação')"
      ]
     },
     "execution_count": 252,
     "metadata": {},
     "output_type": "execute_result"
    },
    {
     "data": {
      "image/png": "[encoded data removed]",
      "text/plain": [
       "<Figure size 432x288 with 2 Axes>"
      ]
     },
     "metadata": {},
     "output_type": "display_data"
    }
   ],
   "source": [
    "#montar gráfico de calor com a correlação dos dados \n",
    "corr = df.corr()\n",
    "sns.heatmap(corr)\n",
    "plt.title('Correlação')"
   ]
  },
  {
   "cell_type": "code",
   "execution_count": 201,
   "metadata": {},
   "outputs": [
    {
     "data": {
      "text/plain": [
       "466"
      ]
     },
     "execution_count": 201,
     "metadata": {},
     "output_type": "execute_result"
    }
   ],
   "source": [
    "#somar Quantidade de irmãos / cônjuges a bordo do Titanic\n",
    "df['SibSp'].sum()"
   ]
  },
  {
   "cell_type": "code",
   "execution_count": 199,
   "metadata": {},
   "outputs": [
    {
     "data": {
      "text/html": [
       "<style  type=\"text/css\" >\n",
       "    #T_27c5ea06_1d20_11e9_84a5_988389096098row0_col0 {\n",
       "            background-color:  #008066;\n",
       "        }    #T_27c5ea06_1d20_11e9_84a5_988389096098row0_col1 {\n",
       "            background-color:  #008066;\n",
       "        }    #T_27c5ea06_1d20_11e9_84a5_988389096098row1_col0 {\n",
       "            background-color:  #c4e266;\n",
       "        }    #T_27c5ea06_1d20_11e9_84a5_988389096098row1_col1 {\n",
       "            background-color:  #77bb66;\n",
       "        }    #T_27c5ea06_1d20_11e9_84a5_988389096098row2_col0 {\n",
       "            background-color:  #f9fc66;\n",
       "        }    #T_27c5ea06_1d20_11e9_84a5_988389096098row2_col1 {\n",
       "            background-color:  #f0f866;\n",
       "        }    #T_27c5ea06_1d20_11e9_84a5_988389096098row3_col0 {\n",
       "            background-color:  #fbfd66;\n",
       "        }    #T_27c5ea06_1d20_11e9_84a5_988389096098row3_col1 {\n",
       "            background-color:  #fbfd66;\n",
       "        }    #T_27c5ea06_1d20_11e9_84a5_988389096098row4_col0 {\n",
       "            background-color:  #f9fc66;\n",
       "        }    #T_27c5ea06_1d20_11e9_84a5_988389096098row4_col1 {\n",
       "            background-color:  #fcfe66;\n",
       "        }    #T_27c5ea06_1d20_11e9_84a5_988389096098row5_col0 {\n",
       "            background-color:  #ffff66;\n",
       "        }    #T_27c5ea06_1d20_11e9_84a5_988389096098row5_col1 {\n",
       "            background-color:  #ffff66;\n",
       "        }    #T_27c5ea06_1d20_11e9_84a5_988389096098row6_col0 {\n",
       "            background-color:  #fefe66;\n",
       "        }    #T_27c5ea06_1d20_11e9_84a5_988389096098row6_col1 {\n",
       "            background-color:  #ffff66;\n",
       "        }</style>  \n",
       "<table id=\"T_27c5ea06_1d20_11e9_84a5_988389096098\" > \n",
       "<thead>    <tr> \n",
       "        <th class=\"index_name level0\" >Survived</th> \n",
       "        <th class=\"col_heading level0 col0\" >0</th> \n",
       "        <th class=\"col_heading level0 col1\" >1</th> \n",
       "    </tr>    <tr> \n",
       "        <th class=\"index_name level0\" >SibSp</th> \n",
       "        <th class=\"blank\" ></th> \n",
       "        <th class=\"blank\" ></th> \n",
       "    </tr></thead> \n",
       "<tbody>    <tr> \n",
       "        <th id=\"T_27c5ea06_1d20_11e9_84a5_988389096098level0_row0\" class=\"row_heading level0 row0\" >0</th> \n",
       "        <td id=\"T_27c5ea06_1d20_11e9_84a5_988389096098row0_col0\" class=\"data row0 col0\" >398</td> \n",
       "        <td id=\"T_27c5ea06_1d20_11e9_84a5_988389096098row0_col1\" class=\"data row0 col1\" >210</td> \n",
       "    </tr>    <tr> \n",
       "        <th id=\"T_27c5ea06_1d20_11e9_84a5_988389096098level0_row1\" class=\"row_heading level0 row1\" >1</th> \n",
       "        <td id=\"T_27c5ea06_1d20_11e9_84a5_988389096098row1_col0\" class=\"data row1 col0\" >97</td> \n",
       "        <td id=\"T_27c5ea06_1d20_11e9_84a5_988389096098row1_col1\" class=\"data row1 col1\" >112</td> \n",
       "    </tr>    <tr> \n",
       "        <th id=\"T_27c5ea06_1d20_11e9_84a5_988389096098level0_row2\" class=\"row_heading level0 row2\" >2</th> \n",
       "        <td id=\"T_27c5ea06_1d20_11e9_84a5_988389096098row2_col0\" class=\"data row2 col0\" >15</td> \n",
       "        <td id=\"T_27c5ea06_1d20_11e9_84a5_988389096098row2_col1\" class=\"data row2 col1\" >13</td> \n",
       "    </tr>    <tr> \n",
       "        <th id=\"T_27c5ea06_1d20_11e9_84a5_988389096098level0_row3\" class=\"row_heading level0 row3\" >3</th> \n",
       "        <td id=\"T_27c5ea06_1d20_11e9_84a5_988389096098row3_col0\" class=\"data row3 col0\" >12</td> \n",
       "        <td id=\"T_27c5ea06_1d20_11e9_84a5_988389096098row3_col1\" class=\"data row3 col1\" >4</td> \n",
       "    </tr>    <tr> \n",
       "        <th id=\"T_27c5ea06_1d20_11e9_84a5_988389096098level0_row4\" class=\"row_heading level0 row4\" >4</th> \n",
       "        <td id=\"T_27c5ea06_1d20_11e9_84a5_988389096098row4_col0\" class=\"data row4 col0\" >15</td> \n",
       "        <td id=\"T_27c5ea06_1d20_11e9_84a5_988389096098row4_col1\" class=\"data row4 col1\" >3</td> \n",
       "    </tr>    <tr> \n",
       "        <th id=\"T_27c5ea06_1d20_11e9_84a5_988389096098level0_row5\" class=\"row_heading level0 row5\" >5</th> \n",
       "        <td id=\"T_27c5ea06_1d20_11e9_84a5_988389096098row5_col0\" class=\"data row5 col0\" >5</td> \n",
       "        <td id=\"T_27c5ea06_1d20_11e9_84a5_988389096098row5_col1\" class=\"data row5 col1\" >0</td> \n",
       "    </tr>    <tr> \n",
       "        <th id=\"T_27c5ea06_1d20_11e9_84a5_988389096098level0_row6\" class=\"row_heading level0 row6\" >8</th> \n",
       "        <td id=\"T_27c5ea06_1d20_11e9_84a5_988389096098row6_col0\" class=\"data row6 col0\" >7</td> \n",
       "        <td id=\"T_27c5ea06_1d20_11e9_84a5_988389096098row6_col1\" class=\"data row6 col1\" >0</td> \n",
       "    </tr></tbody> \n",
       "</table> "
      ],
      "text/plain": [
       "<pandas.io.formats.style.Styler at 0x240725d3160>"
      ]
     },
     "execution_count": 199,
     "metadata": {},
     "output_type": "execute_result"
    }
   ],
   "source": [
    "#realizar gráfico de tabela cruzada \n",
    "pd.crosstab([df.SibSp],df.Survived).style.background_gradient(cmap='summer_r')"
   ]
  },
  {
   "cell_type": "code",
   "execution_count": 185,
   "metadata": {},
   "outputs": [
    {
     "data": {
      "text/plain": [
       "Text(0, 0.5, 'Quant.')"
      ]
     },
     "execution_count": 185,
     "metadata": {},
     "output_type": "execute_result"
    },
    {
     "data": {
      "image/png": "[encoded data removed]",
      "text/plain": [
       "<Figure size 432x288 with 1 Axes>"
      ]
     },
     "metadata": {
      "needs_background": "light"
     },
     "output_type": "display_data"
    }
   ],
   "source": [
    "df.pivot_table(index=('SibSp'), values=('Survived'), aggfunc=np.sum)[['Survived']].plot(kind='bar', rot=0, \n",
    "    colors=('red'), stacked=True,\n",
    "    title='Quant. de Irmãos/Cônjuges Sobreviventes').set_xlabel('SibSp')\n",
    "plt.ylabel('Quant.')"
   ]
  },
  {
   "cell_type": "code",
   "execution_count": 203,
   "metadata": {},
   "outputs": [
    {
     "data": {
      "text/plain": [
       "340"
      ]
     },
     "execution_count": 203,
     "metadata": {},
     "output_type": "execute_result"
    }
   ],
   "source": [
    "#somar Quantidade de pais / crianças a bordo\n",
    "df['Parch'].sum()"
   ]
  },
  {
   "cell_type": "code",
   "execution_count": 36,
   "metadata": {},
   "outputs": [
    {
     "data": {
      "text/html": [
       "<style  type=\"text/css\" >\n",
       "    #T_272568c2_1dbc_11e9_abd1_988389096098row0_col0 {\n",
       "            background-color:  #008066;\n",
       "        }    #T_272568c2_1dbc_11e9_abd1_988389096098row0_col1 {\n",
       "            background-color:  #008066;\n",
       "        }    #T_272568c2_1dbc_11e9_abd1_988389096098row0_col2 {\n",
       "            background-color:  #008066;\n",
       "        }    #T_272568c2_1dbc_11e9_abd1_988389096098row1_col0 {\n",
       "            background-color:  #cfe766;\n",
       "        }    #T_272568c2_1dbc_11e9_abd1_988389096098row1_col1 {\n",
       "            background-color:  #c2e066;\n",
       "        }    #T_272568c2_1dbc_11e9_abd1_988389096098row1_col2 {\n",
       "            background-color:  #dbed66;\n",
       "        }    #T_272568c2_1dbc_11e9_abd1_988389096098row2_col0 {\n",
       "            background-color:  #dfef66;\n",
       "        }    #T_272568c2_1dbc_11e9_abd1_988389096098row2_col1 {\n",
       "            background-color:  #e1f066;\n",
       "        }    #T_272568c2_1dbc_11e9_abd1_988389096098row2_col2 {\n",
       "            background-color:  #e3f166;\n",
       "        }    #T_272568c2_1dbc_11e9_abd1_988389096098row3_col0 {\n",
       "            background-color:  #ffff66;\n",
       "        }    #T_272568c2_1dbc_11e9_abd1_988389096098row3_col1 {\n",
       "            background-color:  #fcfe66;\n",
       "        }    #T_272568c2_1dbc_11e9_abd1_988389096098row3_col2 {\n",
       "            background-color:  #fefe66;\n",
       "        }    #T_272568c2_1dbc_11e9_abd1_988389096098row4_col0 {\n",
       "            background-color:  #fefe66;\n",
       "        }    #T_272568c2_1dbc_11e9_abd1_988389096098row4_col1 {\n",
       "            background-color:  #ffff66;\n",
       "        }    #T_272568c2_1dbc_11e9_abd1_988389096098row4_col2 {\n",
       "            background-color:  #fefe66;\n",
       "        }    #T_272568c2_1dbc_11e9_abd1_988389096098row5_col0 {\n",
       "            background-color:  #ffff66;\n",
       "        }    #T_272568c2_1dbc_11e9_abd1_988389096098row5_col1 {\n",
       "            background-color:  #ffff66;\n",
       "        }    #T_272568c2_1dbc_11e9_abd1_988389096098row5_col2 {\n",
       "            background-color:  #fdfe66;\n",
       "        }    #T_272568c2_1dbc_11e9_abd1_988389096098row6_col0 {\n",
       "            background-color:  #ffff66;\n",
       "        }    #T_272568c2_1dbc_11e9_abd1_988389096098row6_col1 {\n",
       "            background-color:  #ffff66;\n",
       "        }    #T_272568c2_1dbc_11e9_abd1_988389096098row6_col2 {\n",
       "            background-color:  #ffff66;\n",
       "        }</style>  \n",
       "<table id=\"T_272568c2_1dbc_11e9_abd1_988389096098\" > \n",
       "<thead>    <tr> \n",
       "        <th class=\"index_name level0\" >Pclass</th> \n",
       "        <th class=\"col_heading level0 col0\" >1</th> \n",
       "        <th class=\"col_heading level0 col1\" >2</th> \n",
       "        <th class=\"col_heading level0 col2\" >3</th> \n",
       "    </tr>    <tr> \n",
       "        <th class=\"index_name level0\" >Parch</th> \n",
       "        <th class=\"blank\" ></th> \n",
       "        <th class=\"blank\" ></th> \n",
       "        <th class=\"blank\" ></th> \n",
       "    </tr></thead> \n",
       "<tbody>    <tr> \n",
       "        <th id=\"T_272568c2_1dbc_11e9_abd1_988389096098level0_row0\" class=\"row_heading level0 row0\" >0</th> \n",
       "        <td id=\"T_272568c2_1dbc_11e9_abd1_988389096098row0_col0\" class=\"data row0 col0\" >163</td> \n",
       "        <td id=\"T_272568c2_1dbc_11e9_abd1_988389096098row0_col1\" class=\"data row0 col1\" >134</td> \n",
       "        <td id=\"T_272568c2_1dbc_11e9_abd1_988389096098row0_col2\" class=\"data row0 col2\" >381</td> \n",
       "    </tr>    <tr> \n",
       "        <th id=\"T_272568c2_1dbc_11e9_abd1_988389096098level0_row1\" class=\"row_heading level0 row1\" >1</th> \n",
       "        <td id=\"T_272568c2_1dbc_11e9_abd1_988389096098row1_col0\" class=\"data row1 col0\" >31</td> \n",
       "        <td id=\"T_272568c2_1dbc_11e9_abd1_988389096098row1_col1\" class=\"data row1 col1\" >32</td> \n",
       "        <td id=\"T_272568c2_1dbc_11e9_abd1_988389096098row1_col2\" class=\"data row1 col2\" >55</td> \n",
       "    </tr>    <tr> \n",
       "        <th id=\"T_272568c2_1dbc_11e9_abd1_988389096098level0_row2\" class=\"row_heading level0 row2\" >2</th> \n",
       "        <td id=\"T_272568c2_1dbc_11e9_abd1_988389096098row2_col0\" class=\"data row2 col0\" >21</td> \n",
       "        <td id=\"T_272568c2_1dbc_11e9_abd1_988389096098row2_col1\" class=\"data row2 col1\" >16</td> \n",
       "        <td id=\"T_272568c2_1dbc_11e9_abd1_988389096098row2_col2\" class=\"data row2 col2\" >43</td> \n",
       "    </tr>    <tr> \n",
       "        <th id=\"T_272568c2_1dbc_11e9_abd1_988389096098level0_row3\" class=\"row_heading level0 row3\" >3</th> \n",
       "        <td id=\"T_272568c2_1dbc_11e9_abd1_988389096098row3_col0\" class=\"data row3 col0\" >0</td> \n",
       "        <td id=\"T_272568c2_1dbc_11e9_abd1_988389096098row3_col1\" class=\"data row3 col1\" >2</td> \n",
       "        <td id=\"T_272568c2_1dbc_11e9_abd1_988389096098row3_col2\" class=\"data row3 col2\" >3</td> \n",
       "    </tr>    <tr> \n",
       "        <th id=\"T_272568c2_1dbc_11e9_abd1_988389096098level0_row4\" class=\"row_heading level0 row4\" >4</th> \n",
       "        <td id=\"T_272568c2_1dbc_11e9_abd1_988389096098row4_col0\" class=\"data row4 col0\" >1</td> \n",
       "        <td id=\"T_272568c2_1dbc_11e9_abd1_988389096098row4_col1\" class=\"data row4 col1\" >0</td> \n",
       "        <td id=\"T_272568c2_1dbc_11e9_abd1_988389096098row4_col2\" class=\"data row4 col2\" >3</td> \n",
       "    </tr>    <tr> \n",
       "        <th id=\"T_272568c2_1dbc_11e9_abd1_988389096098level0_row5\" class=\"row_heading level0 row5\" >5</th> \n",
       "        <td id=\"T_272568c2_1dbc_11e9_abd1_988389096098row5_col0\" class=\"data row5 col0\" >0</td> \n",
       "        <td id=\"T_272568c2_1dbc_11e9_abd1_988389096098row5_col1\" class=\"data row5 col1\" >0</td> \n",
       "        <td id=\"T_272568c2_1dbc_11e9_abd1_988389096098row5_col2\" class=\"data row5 col2\" >5</td> \n",
       "    </tr>    <tr> \n",
       "        <th id=\"T_272568c2_1dbc_11e9_abd1_988389096098level0_row6\" class=\"row_heading level0 row6\" >6</th> \n",
       "        <td id=\"T_272568c2_1dbc_11e9_abd1_988389096098row6_col0\" class=\"data row6 col0\" >0</td> \n",
       "        <td id=\"T_272568c2_1dbc_11e9_abd1_988389096098row6_col1\" class=\"data row6 col1\" >0</td> \n",
       "        <td id=\"T_272568c2_1dbc_11e9_abd1_988389096098row6_col2\" class=\"data row6 col2\" >1</td> \n",
       "    </tr></tbody> \n",
       "</table> "
      ],
      "text/plain": [
       "<pandas.io.formats.style.Styler at 0x1c42922bcf8>"
      ]
     },
     "execution_count": 36,
     "metadata": {},
     "output_type": "execute_result"
    }
   ],
   "source": [
    "#realizar tabela cruzada dos dados por classe \n",
    "pd.crosstab(df.Parch,df.Pclass).style.background_gradient(cmap='summer_r')\n"
   ]
  },
  {
   "cell_type": "code",
   "execution_count": 183,
   "metadata": {},
   "outputs": [
    {
     "data": {
      "text/plain": [
       "Text(0, 0.5, 'Quant.')"
      ]
     },
     "execution_count": 183,
     "metadata": {},
     "output_type": "execute_result"
    },
    {
     "data": {
      "image/png": "[encoded data removed]",
      "text/plain": [
       "<Figure size 432x288 with 1 Axes>"
      ]
     },
     "metadata": {
      "needs_background": "light"
     },
     "output_type": "display_data"
    }
   ],
   "source": [
    "#gráfico com a quantidade de sobreviventes da variável \"Quantidade de pais/crianças a bordo\"\n",
    "df.pivot_table(index=('Parch'), values=('Survived'), aggfunc=np.sum)[['Survived']].plot(kind='bar', rot=0, \n",
    "    colors=('green'), stacked=True,\n",
    "    title='Quant. de Pais/Crianças sobreviventes').set_xlabel('Parch')\n",
    "plt.ylabel('Quant.')"
   ]
  },
  {
   "cell_type": "markdown",
   "metadata": {},
   "source": [
    "O gráfico Heatmap de correlação mostra que há pouca correlação entre as variáveis, sendo a maior a correlação entre irmãos \n",
    "e parentes (0,41), das famílias sobreviventes, a maior chance de sobrevivência foi entre famílias pequenas (até 4 parentes)\n",
    "provavelmente sendo mais fácil de se ajudarem mutuamente em uma situação de risco, famílias grandes\n",
    "tiveram taxas baixas de sobrevivência (tendo sido possível que muitos tentaram encontrar a família para embarcarem nos botes\n",
    "e não conseguiram se salvar), o que revela que no caso do Titanic o que colaborou para a sobrevivência foi o favo-\n",
    "recimento de pessoas da 1ª classe na distribuição e acesso aos botes e a política marítima do Birkenhead.\n",
    "Obs: Não foi possível encontrar o nome de Mallvina Dean, última sobrevivente do Titanic, que faleceu em 2009."
   ]
  },
  {
   "cell_type": "code",
   "execution_count": 254,
   "metadata": {},
   "outputs": [
    {
     "data": {
      "text/plain": [
       "Series([], Name: Age, dtype: float64)"
      ]
     },
     "execution_count": 254,
     "metadata": {},
     "output_type": "execute_result"
    }
   ],
   "source": [
    "df[df['Name']=='Millvina Dean']['Age']"
   ]
  },
  {
   "cell_type": "markdown",
   "metadata": {},
   "source": [
    "Conclusão: \n",
    "Enquanto foi projetado para ser um luxuoso navio, pouca atenção foi dada à segurança dos passageiros, sendo retirados botes para não atrapalhar a \"estética\" e treinamentos de segurança tendo sido cancelados, motivo da pequena taxa de sobrevivência, \n",
    "a tripulação não estava preparada para uma evacuação de emergência, a quantidade de botes poderia ter salvo mais pessoas, porém muitos saíram com quantidade de pessoas menor que poderia abrigar, muitas vidas poderiam ter sido salvas com um treinamento adequeado da tripulação. A maioria dos sobreviventes foram mulheres, crianças e passageiros da primeira classe, no caso das \n",
    "variáveis a correlação não implicou causalidade, o que ajudou na sobrevivência foi a regra de se salvarem mulheres e crianças primeiro e o fato dos passageiros da primeira classe terem tido ajuda da tripulação e mais facilidade na hora de se retirarem do navio. A alta taxa de mortalidade mostra como o navio estava despreparado para situações atípicas de risco. Após o desastre do Titanic muitas regras de segurança, treinamentos e equipamentos foram alterados e exigidos. \n",
    "Fonte: Wikipedia.com\n",
    "\n"
   ]
  }
 ],
 "metadata": {
  "kernelspec": {
   "display_name": "Python 3",
   "language": "python",
   "name": "python3"
  },
  "language_info": {
   "codemirror_mode": {
    "name": "ipython",
    "version": 3
   },
   "file_extension": ".py",
   "mimetype": "text/x-python",
   "name": "python",
   "nbconvert_exporter": "python",
   "pygments_lexer": "ipython3",
   "version": "3.7.1"
  }
 },
 "nbformat": 4,
 "nbformat_minor": 2
}
